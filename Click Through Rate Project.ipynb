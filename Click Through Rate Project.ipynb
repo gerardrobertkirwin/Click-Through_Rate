{
 "cells": [
  {
   "cell_type": "code",
   "execution_count": 94,
   "id": "6e2b8dd4",
   "metadata": {},
   "outputs": [],
   "source": [
    "import pandas as pd\n",
    "import numpy as np\n",
    "from matplotlib import pyplot\n",
    "import imblearn\n",
    "from sklearn.model_selection import train_test_split\n",
    "from collections import Counter\n",
    "from imblearn.over_sampling import SMOTE\n",
    "\n",
    "\n",
    "from sklearn.utils.multiclass import type_of_target\n",
    "from sklearn.model_selection import train_test_split\n",
    "from sklearn.model_selection import cross_val_score\n",
    "from sklearn.model_selection import StratifiedKFold\n",
    "from sklearn.linear_model import LogisticRegression\n",
    "from sklearn.tree import DecisionTreeClassifier\n",
    "from sklearn.neighbors import KNeighborsClassifier\n",
    "from sklearn.discriminant_analysis import LinearDiscriminantAnalysis\n",
    "from sklearn.naive_bayes import GaussianNB\n",
    "from sklearn.svm import LinearSVC\n",
    "from sklearn.ensemble import RandomForestClassifier\n",
    "from sklearn.metrics import mean_squared_error\n",
    "from sklearn import linear_model\n",
    "from sklearn.model_selection import KFold\n",
    "\n",
    "from sklearn.model_selection import cross_val_score\n",
    "from sklearn.metrics import accuracy_score\n",
    "from sklearn.metrics import f1_score\n",
    "from sklearn.metrics import roc_auc_score\n",
    "from sklearn import metrics\n",
    "from sklearn.model_selection import GridSearchCV"
   ]
  },
  {
   "cell_type": "code",
   "execution_count": 95,
   "id": "f7244f62",
   "metadata": {},
   "outputs": [
    {
     "name": "stdout",
     "output_type": "stream",
     "text": [
      "             id  click      hour    C1  banner_pos   site_id site_domain  \\\n",
      "0  1.000009e+18      0  14102100  1005           0  1fbe01fe    f3845767   \n",
      "1  1.000017e+19      0  14102100  1005           0  1fbe01fe    f3845767   \n",
      "2  1.000037e+19      0  14102100  1005           0  1fbe01fe    f3845767   \n",
      "3  1.000064e+19      0  14102100  1005           0  1fbe01fe    f3845767   \n",
      "4  1.000068e+19      0  14102100  1005           1  fe8cc448    9166c161   \n",
      "\n",
      "  site_category    app_id app_domain  ... device_type device_conn_type    C14  \\\n",
      "0      28905ebd  ecad2386   7801e8d9  ...           1                2  15706   \n",
      "1      28905ebd  ecad2386   7801e8d9  ...           1                0  15704   \n",
      "2      28905ebd  ecad2386   7801e8d9  ...           1                0  15704   \n",
      "3      28905ebd  ecad2386   7801e8d9  ...           1                0  15706   \n",
      "4      0569f928  ecad2386   7801e8d9  ...           1                0  18993   \n",
      "\n",
      "   C15  C16   C17  C18  C19     C20  C21  \n",
      "0  320   50  1722    0   35      -1   79  \n",
      "1  320   50  1722    0   35  100084   79  \n",
      "2  320   50  1722    0   35  100084   79  \n",
      "3  320   50  1722    0   35  100084   79  \n",
      "4  320   50  2161    0   35      -1  157  \n",
      "\n",
      "[5 rows x 24 columns]\n"
     ]
    }
   ],
   "source": [
    "train = pd.read_csv('train.gz')\n",
    "\n",
    "print(train.head())"
   ]
  },
  {
   "cell_type": "code",
   "execution_count": 96,
   "id": "bdede8b5",
   "metadata": {},
   "outputs": [
    {
     "data": {
      "text/plain": [
       "a7853007    461311\n",
       "b7e9786d    369099\n",
       "5ee41ff2    349008\n",
       "6399eda6    343703\n",
       "5bcf81a2    340050\n",
       "             ...  \n",
       "c7722f88         1\n",
       "d92a5e9b         1\n",
       "178661e3         1\n",
       "7e5b4c36         1\n",
       "0849db33         1\n",
       "Name: site_id, Length: 4730, dtype: int64"
      ]
     },
     "execution_count": 96,
     "metadata": {},
     "output_type": "execute_result"
    }
   ],
   "source": [
    "#Narrowing down the data to one site\n",
    "train['site_id'].value_counts()[train['site_id'].value_counts()< 500000]"
   ]
  },
  {
   "cell_type": "code",
   "execution_count": 97,
   "id": "ab495e02",
   "metadata": {},
   "outputs": [],
   "source": [
    "train=train.loc[train['site_id'] == 'a7853007']"
   ]
  },
  {
   "cell_type": "code",
   "execution_count": 98,
   "id": "46eb41cb",
   "metadata": {},
   "outputs": [],
   "source": [
    "#clean up training data\n",
    "train = train.dropna(axis=0)\n",
    "x = train.drop(['id','click',\n",
    "                'site_id', 'site_domain', 'site_category',      \n",
    "'app_id',             \n",
    "'app_domain',         \n",
    "'app_category',       \n",
    "'device_id',         \n",
    "'device_ip',          \n",
    "'device_model'],axis=1)\n",
    "\n",
    "y = train.iloc[:,1]"
   ]
  },
  {
   "cell_type": "code",
   "execution_count": 99,
   "id": "2566c813",
   "metadata": {},
   "outputs": [],
   "source": [
    "x_train,x_test,y_train,y_test=train_test_split(x,y,test_size=0.2, stratify=y, random_state=4)"
   ]
  },
  {
   "cell_type": "code",
   "execution_count": 100,
   "id": "812c382d",
   "metadata": {},
   "outputs": [
    {
     "name": "stdout",
     "output_type": "stream",
     "text": [
      "Counter({0: 331298, 1: 331298})\n"
     ]
    }
   ],
   "source": [
    "oversample = SMOTE()\n",
    "\n",
    "x_train, y_train = oversample.fit_resample(x_train, y_train)\n",
    "\n",
    "counter = Counter(y_train)\n",
    "print(counter)"
   ]
  },
  {
   "cell_type": "code",
   "execution_count": 101,
   "id": "f968ed53",
   "metadata": {},
   "outputs": [
    {
     "data": {
      "text/plain": [
       "(array([0, 1]), array([331298, 331298]))"
      ]
     },
     "execution_count": 101,
     "metadata": {},
     "output_type": "execute_result"
    }
   ],
   "source": [
    "#checking to see the resampling is done correctly\n",
    "np.unique(y_train, return_counts=True)"
   ]
  },
  {
   "cell_type": "code",
   "execution_count": 102,
   "id": "6ff5bbf2",
   "metadata": {},
   "outputs": [
    {
     "name": "stdout",
     "output_type": "stream",
     "text": [
      "LR: 0.534873 (0.002184)\n",
      "LDA: 0.542838 (0.000475)\n",
      "KNN: 0.508679 (0.000796)\n",
      "CART: 0.553653 (0.000515)\n",
      "NB: 0.534668 (0.000286)\n"
     ]
    },
    {
     "name": "stderr",
     "output_type": "stream",
     "text": [
      "/opt/anaconda3/lib/python3.8/site-packages/sklearn/svm/_base.py:985: ConvergenceWarning: Liblinear failed to converge, increase the number of iterations.\n",
      "  warnings.warn(\"Liblinear failed to converge, increase \"\n",
      "/opt/anaconda3/lib/python3.8/site-packages/sklearn/svm/_base.py:985: ConvergenceWarning: Liblinear failed to converge, increase the number of iterations.\n",
      "  warnings.warn(\"Liblinear failed to converge, increase \"\n",
      "/opt/anaconda3/lib/python3.8/site-packages/sklearn/svm/_base.py:985: ConvergenceWarning: Liblinear failed to converge, increase the number of iterations.\n",
      "  warnings.warn(\"Liblinear failed to converge, increase \"\n",
      "/opt/anaconda3/lib/python3.8/site-packages/sklearn/svm/_base.py:985: ConvergenceWarning: Liblinear failed to converge, increase the number of iterations.\n",
      "  warnings.warn(\"Liblinear failed to converge, increase \"\n"
     ]
    },
    {
     "name": "stdout",
     "output_type": "stream",
     "text": [
      "SVC: 0.500000 (0.000003)\n",
      "RF: 0.553954 (0.000914)\n"
     ]
    },
    {
     "data": {
      "image/png": "[encoded data removed]",
      "text/plain": [
       "<Figure size 432x288 with 1 Axes>"
      ]
     },
     "metadata": {
      "needs_background": "light"
     },
     "output_type": "display_data"
    }
   ],
   "source": [
    "#Reused from Premier League project\n",
    "\n",
    "# Spot Check Algorithms\n",
    "models = []\n",
    "models.append(('LR', LogisticRegression(solver='liblinear', multi_class='ovr')))\n",
    "models.append(('LDA', LinearDiscriminantAnalysis()))\n",
    "models.append(('KNN', KNeighborsClassifier()))\n",
    "models.append(('CART', DecisionTreeClassifier()))\n",
    "models.append(('NB', GaussianNB()))\n",
    "models.append(('SVC', LinearSVC()))\n",
    "models.append(('RF', RandomForestClassifier()))\n",
    "# evaluate each model in turn\n",
    "results = []\n",
    "names = []\n",
    "for name, model in models:\n",
    "    kfold = StratifiedKFold(n_splits=4, random_state=1, shuffle=True)\n",
    "    cv_results = cross_val_score(model, x_train, y_train, cv=kfold, scoring='accuracy')\n",
    "    results.append(cv_results)\n",
    "    names.append(name)\n",
    "    print('%s: %f (%f)' % (name, cv_results.mean(), cv_results.std()))\n",
    "# Compare Algorithms\n",
    "pyplot.boxplot(results, labels=names)\n",
    "pyplot.title('Algorithm Comparison')\n",
    "pyplot.show()"
   ]
  },
  {
   "cell_type": "code",
   "execution_count": 103,
   "id": "2d8f87dd",
   "metadata": {},
   "outputs": [
    {
     "name": "stdout",
     "output_type": "stream",
     "text": [
      "Accuracy Score: 0.5283374700584199\n",
      "F1 Score: 0.19839003813067585\n",
      "ROC-AUC Score: 0.547045651711294\n"
     ]
    }
   ],
   "source": [
    "#Testing each of the models to see which is the most accurate on our test data\n",
    "\n",
    "#Decision Tree Classifier\n",
    "cart = DecisionTreeClassifier()\n",
    "cart.fit(x_train, y_train)\n",
    "y_pred_cart = cart.predict(x_test)\n",
    "\n",
    "print(\"Accuracy Score:\", accuracy_score(y_test,y_pred_cart))\n",
    "print(\"F1 Score:\", f1_score(y_test,y_pred_cart))\n",
    "print(\"ROC-AUC Score:\", roc_auc_score(y_test, y_pred_cart))"
   ]
  },
  {
   "cell_type": "code",
   "execution_count": 104,
   "id": "0cc54172",
   "metadata": {},
   "outputs": [
    {
     "name": "stdout",
     "output_type": "stream",
     "text": [
      "Accuracy Score: 0.5300933201825218\n",
      "F1 Score: 0.19868773680805843\n",
      "ROC-AUC Score: 0.54755421229065\n"
     ]
    }
   ],
   "source": [
    "#Random Forest\n",
    "clf =RandomForestClassifier()\n",
    "clf.fit(x_train, y_train)\n",
    "y_pred_clf = clf.predict(x_test)\n",
    "\n",
    "print(\"Accuracy Score:\", accuracy_score(y_test,y_pred_clf))\n",
    "print(\"F1 Score:\", f1_score(y_test,y_pred_clf))\n",
    "print(\"ROC-AUC Score:\", roc_auc_score(y_test, y_pred_clf))"
   ]
  },
  {
   "cell_type": "code",
   "execution_count": 105,
   "id": "3c22a822",
   "metadata": {},
   "outputs": [
    {
     "name": "stdout",
     "output_type": "stream",
     "text": [
      "[1 1 0 ... 1 1 1]\n",
      "Accuracy Score: 0.4054279613712973\n",
      "F1 Score: 0.19577487502015803\n",
      "ROC-AUC Score: 0.5392351877923868\n"
     ]
    }
   ],
   "source": [
    "#LDA\n",
    "lda = LinearDiscriminantAnalysis()\n",
    "lda.fit(x_train, y_train)\n",
    "y_pred_lda = lda.predict(x_test)\n",
    "print(y_pred_lda)\n",
    "\n",
    "\n",
    "print(\"Accuracy Score:\", accuracy_score(y_test,y_pred_lda))\n",
    "print(\"F1 Score:\", f1_score(y_test,y_pred_lda))\n",
    "print(\"ROC-AUC Score:\", roc_auc_score(y_test, y_pred_lda))"
   ]
  },
  {
   "cell_type": "code",
   "execution_count": 106,
   "id": "228dd245",
   "metadata": {},
   "outputs": [
    {
     "name": "stdout",
     "output_type": "stream",
     "text": [
      "[1 1 0 ... 1 1 1]\n",
      "Accuracy Score: 0.35681692552810984\n",
      "F1 Score: 0.1944014552958106\n",
      "ROC-AUC Score: 0.5348322913446533\n"
     ]
    }
   ],
   "source": [
    "#Logistic Regression\n",
    "Lr = LogisticRegression()\n",
    "Lr.fit(x_train,y_train)\n",
    "y_pred_lr=Lr.predict(x_test)\n",
    "print(y_pred_lr)\n",
    "\n",
    "\n",
    "print(\"Accuracy Score:\", accuracy_score(y_test,y_pred_lr))\n",
    "print(\"F1 Score:\", f1_score(y_test,y_pred_lr))\n",
    "print(\"ROC-AUC Score:\", roc_auc_score(y_test, y_pred_lr))"
   ]
  },
  {
   "cell_type": "code",
   "execution_count": 107,
   "id": "4c1b74e1",
   "metadata": {},
   "outputs": [
    {
     "name": "stdout",
     "output_type": "stream",
     "text": [
      "[1 1 1 ... 1 1 1]\n",
      "Accuracy Score: 0.10229452760044655\n",
      "F1 Score: 0.1856028947601302\n",
      "ROC-AUC Score: 0.5\n"
     ]
    },
    {
     "name": "stderr",
     "output_type": "stream",
     "text": [
      "/opt/anaconda3/lib/python3.8/site-packages/sklearn/svm/_base.py:985: ConvergenceWarning: Liblinear failed to converge, increase the number of iterations.\n",
      "  warnings.warn(\"Liblinear failed to converge, increase \"\n"
     ]
    }
   ],
   "source": [
    "#SVC\n",
    "svc = LinearSVC()\n",
    "svc.fit(x_train, y_train)\n",
    "y_pred_svc = svc.predict(x_test)\n",
    "print(y_pred_svc)\n",
    "\n",
    "print(\"Accuracy Score:\", accuracy_score(y_test,y_pred_svc))\n",
    "print(\"F1 Score:\", f1_score(y_test,y_pred_svc))\n",
    "print(\"ROC-AUC Score:\", roc_auc_score(y_test, y_pred_svc))"
   ]
  },
  {
   "cell_type": "code",
   "execution_count": 108,
   "id": "90e54476",
   "metadata": {},
   "outputs": [
    {
     "name": "stdout",
     "output_type": "stream",
     "text": [
      "[1 1 0 ... 1 1 1]\n",
      "Accuracy Score: 0.2985161982593239\n",
      "F1 Score: 0.1937991255496456\n",
      "ROC-AUC Score: 0.5314163818235931\n"
     ]
    }
   ],
   "source": [
    "#Gaussian\n",
    "nb = GaussianNB()\n",
    "nb.fit(x_train, y_train)\n",
    "y_pred_nb = nb.predict(x_test)\n",
    "print(y_pred_nb)\n",
    "\n",
    "print(\"Accuracy Score:\", accuracy_score(y_test,y_pred_nb))\n",
    "print(\"F1 Score:\", f1_score(y_test,y_pred_nb))\n",
    "print(\"ROC-AUC Score:\", roc_auc_score(y_test, y_pred_nb))"
   ]
  },
  {
   "cell_type": "code",
   "execution_count": 109,
   "id": "46282d16",
   "metadata": {},
   "outputs": [
    {
     "data": {
      "text/plain": [
       "array([0.5539013 , 0.55280375, 0.55413941, 0.55426014, 0.55578445])"
      ]
     },
     "execution_count": 109,
     "metadata": {},
     "output_type": "execute_result"
    }
   ],
   "source": [
    "cross_val_score(cart, x_train, y_train, cv=5)"
   ]
  },
  {
   "cell_type": "code",
   "execution_count": 110,
   "id": "f5c55270",
   "metadata": {},
   "outputs": [
    {
     "name": "stdout",
     "output_type": "stream",
     "text": [
      "              precision    recall  f1-score   support\n",
      "\n",
      "           0       0.52      0.91      0.67     47414\n",
      "           1       0.57      0.12      0.20     44849\n",
      "\n",
      "    accuracy                           0.53     92263\n",
      "   macro avg       0.55      0.52      0.43     92263\n",
      "weighted avg       0.55      0.53      0.44     92263\n",
      "\n"
     ]
    }
   ],
   "source": [
    "print(metrics.classification_report(y_pred_cart, y_test))"
   ]
  },
  {
   "cell_type": "code",
   "execution_count": 111,
   "id": "d406b2d7",
   "metadata": {},
   "outputs": [],
   "source": [
    "#Finding the best parameters for our best performing model\n",
    "param_dict = {\n",
    "    \"criterion\": ['gini', 'entropy'],\n",
    "    \"max_depth\": range(-1,10),\n",
    "    \"min_samples_split\": range(-1,10),\n",
    "    \"min_samples_leaf\": range(-1,5)\n",
    "}"
   ]
  },
  {
   "cell_type": "code",
   "execution_count": 112,
   "id": "ada223f8",
   "metadata": {},
   "outputs": [
    {
     "name": "stdout",
     "output_type": "stream",
     "text": [
      "Fitting 10 folds for each of 1452 candidates, totalling 14520 fits\n"
     ]
    },
    {
     "name": "stderr",
     "output_type": "stream",
     "text": [
      "/opt/anaconda3/lib/python3.8/site-packages/sklearn/model_selection/_search.py:918: UserWarning: One or more of the test scores are non-finite: [       nan        nan        nan ... 0.55089226 0.55089679 0.55088773]\n",
      "  warnings.warn(\n"
     ]
    },
    {
     "data": {
      "text/plain": [
       "GridSearchCV(cv=10, estimator=DecisionTreeClassifier(), n_jobs=-1,\n",
       "             param_grid={'criterion': ['gini', 'entropy'],\n",
       "                         'max_depth': range(-1, 10),\n",
       "                         'min_samples_leaf': range(-1, 5),\n",
       "                         'min_samples_split': range(-1, 10)},\n",
       "             scoring='accuracy', verbose=1)"
      ]
     },
     "execution_count": 112,
     "metadata": {},
     "output_type": "execute_result"
    }
   ],
   "source": [
    "grid = GridSearchCV(cart,\n",
    "                   param_grid=param_dict,\n",
    "                   cv=10,\n",
    "                   verbose=1,\n",
    "                   n_jobs=-1,\n",
    "                   refit = True,\n",
    "                   scoring='accuracy')\n",
    "grid.fit(x_train, y_train)"
   ]
  },
  {
   "cell_type": "code",
   "execution_count": 113,
   "id": "6bed5c80",
   "metadata": {},
   "outputs": [
    {
     "data": {
      "text/plain": [
       "{'criterion': 'entropy',\n",
       " 'max_depth': 9,\n",
       " 'min_samples_leaf': 2,\n",
       " 'min_samples_split': 7}"
      ]
     },
     "execution_count": 113,
     "metadata": {},
     "output_type": "execute_result"
    }
   ],
   "source": [
    "grid.best_params_"
   ]
  },
  {
   "cell_type": "code",
   "execution_count": 114,
   "id": "4bdb00ca",
   "metadata": {},
   "outputs": [
    {
     "data": {
      "text/plain": [
       "DecisionTreeClassifier(criterion='entropy', max_depth=9, min_samples_leaf=2,\n",
       "                       min_samples_split=7)"
      ]
     },
     "execution_count": 114,
     "metadata": {},
     "output_type": "execute_result"
    }
   ],
   "source": [
    "grid.best_estimator_"
   ]
  },
  {
   "cell_type": "code",
   "execution_count": 115,
   "id": "6da62d4f",
   "metadata": {},
   "outputs": [
    {
     "data": {
      "text/plain": [
       "0.5509013128410323"
      ]
     },
     "execution_count": 115,
     "metadata": {},
     "output_type": "execute_result"
    }
   ],
   "source": [
    "grid.best_score_"
   ]
  },
  {
   "cell_type": "code",
   "execution_count": 116,
   "id": "9fce76ec",
   "metadata": {},
   "outputs": [
    {
     "name": "stdout",
     "output_type": "stream",
     "text": [
      "Fitting 10 folds for each of 10 candidates, totalling 100 fits\n"
     ]
    },
    {
     "name": "stderr",
     "output_type": "stream",
     "text": [
      "/opt/anaconda3/lib/python3.8/site-packages/sklearn/model_selection/_search.py:918: UserWarning: One or more of the test scores are non-finite: [       nan 0.5412695  0.5412695  0.55083793        nan 0.55040478\n",
      "        nan        nan        nan        nan]\n",
      "  warnings.warn(\n"
     ]
    },
    {
     "data": {
      "text/plain": [
       "RandomizedSearchCV(cv=10, estimator=DecisionTreeClassifier(), n_jobs=-1,\n",
       "                   param_distributions={'criterion': ['gini', 'entropy'],\n",
       "                                        'max_depth': range(-1, 10),\n",
       "                                        'min_samples_leaf': range(-1, 5),\n",
       "                                        'min_samples_split': range(-1, 10)},\n",
       "                   scoring='accuracy', verbose=1)"
      ]
     },
     "execution_count": 116,
     "metadata": {},
     "output_type": "execute_result"
    }
   ],
   "source": [
    "from sklearn.model_selection import RandomizedSearchCV\n",
    "random = RandomizedSearchCV(cart,\n",
    "                   param_distributions=param_dict,\n",
    "                   cv=10,\n",
    "                   verbose=1,\n",
    "                   n_jobs=-1,\n",
    "                   scoring='accuracy')\n",
    "random.fit(x_train, y_train)"
   ]
  },
  {
   "cell_type": "code",
   "execution_count": 117,
   "id": "72166633",
   "metadata": {},
   "outputs": [
    {
     "data": {
      "text/plain": [
       "{'min_samples_split': 4,\n",
       " 'min_samples_leaf': 2,\n",
       " 'max_depth': 9,\n",
       " 'criterion': 'gini'}"
      ]
     },
     "execution_count": 117,
     "metadata": {},
     "output_type": "execute_result"
    }
   ],
   "source": [
    "random.best_params_"
   ]
  },
  {
   "cell_type": "code",
   "execution_count": 118,
   "id": "d32bdcc4",
   "metadata": {},
   "outputs": [
    {
     "data": {
      "text/plain": [
       "DecisionTreeClassifier(max_depth=9, min_samples_leaf=2, min_samples_split=4)"
      ]
     },
     "execution_count": 118,
     "metadata": {},
     "output_type": "execute_result"
    }
   ],
   "source": [
    "random.best_estimator_"
   ]
  },
  {
   "cell_type": "code",
   "execution_count": 119,
   "id": "fff14762",
   "metadata": {},
   "outputs": [
    {
     "data": {
      "text/plain": [
       "0.5508379262279695"
      ]
     },
     "execution_count": 119,
     "metadata": {},
     "output_type": "execute_result"
    }
   ],
   "source": [
    "random.best_score_"
   ]
  },
  {
   "cell_type": "code",
   "execution_count": 133,
   "id": "a8064f01",
   "metadata": {},
   "outputs": [
    {
     "name": "stdout",
     "output_type": "stream",
     "text": [
      "Accuracy Score: 0.4666334283515602\n",
      "F1 Score: 0.19876909049464325\n",
      "ROC-AUC Score: 0.5464282293637726\n"
     ]
    }
   ],
   "source": [
    "cart2 = grid.best_estimator_\n",
    "cart2.fit(x_train, y_train)\n",
    "y_pred_cart2 = cart2.predict(x_test)\n",
    "print(\"Accuracy Score:\", accuracy_score(y_test,y_pred_cart2))\n",
    "print(\"F1 Score:\", f1_score(y_test,y_pred_cart2))\n",
    "print(\"ROC-AUC Score:\", roc_auc_score(y_test, y_pred_cart2))"
   ]
  },
  {
   "cell_type": "code",
   "execution_count": 147,
   "id": "c754df29",
   "metadata": {},
   "outputs": [
    {
     "name": "stdout",
     "output_type": "stream",
     "text": [
      "Accuracy Score: 0.4666334283515602\n",
      "F1 Score: 0.19876909049464325\n",
      "ROC-AUC Score: 0.5464282293637726\n"
     ]
    }
   ],
   "source": [
    "y_random = random.best_estimator_.predict(x_test)\n",
    "print(\"Accuracy Score:\", accuracy_score(y_test,y_grid))\n",
    "print(\"F1 Score:\", f1_score(y_test,y_grid))\n",
    "print(\"ROC-AUC Score:\", roc_auc_score(y_test, y_grid))"
   ]
  },
  {
   "cell_type": "code",
   "execution_count": 142,
   "id": "dc3ed67e",
   "metadata": {},
   "outputs": [
    {
     "name": "stdout",
     "output_type": "stream",
     "text": [
      "              precision    recall  f1-score   support\n",
      "\n",
      "           0       0.45      0.92      0.60     40283\n",
      "           1       0.65      0.12      0.20     51980\n",
      "\n",
      "    accuracy                           0.47     92263\n",
      "   macro avg       0.55      0.52      0.40     92263\n",
      "weighted avg       0.56      0.47      0.37     92263\n",
      "\n"
     ]
    }
   ],
   "source": [
    "print(metrics.classification_report(y_pred_cart2, y_test))"
   ]
  },
  {
   "cell_type": "code",
   "execution_count": 145,
   "id": "02790379",
   "metadata": {},
   "outputs": [
    {
     "name": "stdout",
     "output_type": "stream",
     "text": [
      "              precision    recall  f1-score   support\n",
      "\n",
      "           0       0.45      0.92      0.60     40282\n",
      "           1       0.65      0.12      0.20     51981\n",
      "\n",
      "    accuracy                           0.47     92263\n",
      "   macro avg       0.55      0.52      0.40     92263\n",
      "weighted avg       0.56      0.47      0.37     92263\n",
      "\n"
     ]
    }
   ],
   "source": [
    "print(metrics.classification_report(y_random, y_test))"
   ]
  }
 ],
 "metadata": {
  "kernelspec": {
   "display_name": "Python 3",
   "language": "python",
   "name": "python3"
  },
  "language_info": {
   "codemirror_mode": {
    "name": "ipython",
    "version": 3
   },
   "file_extension": ".py",
   "mimetype": "text/x-python",
   "name": "python",
   "nbconvert_exporter": "python",
   "pygments_lexer": "ipython3",
   "version": "3.8.8"
  }
 },
 "nbformat": 4,
 "nbformat_minor": 5
}
